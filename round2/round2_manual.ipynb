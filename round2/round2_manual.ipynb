{
 "cells": [
  {
   "cell_type": "code",
   "id": "initial_id",
   "metadata": {
    "collapsed": true,
    "ExecuteTime": {
     "end_time": "2025-04-13T08:23:08.917225Z",
     "start_time": "2025-04-13T08:23:08.894061Z"
    }
   },
   "source": [
    "import numpy as np\n",
    "import itertools\n",
    "import math\n",
    "\n",
    "from wolframclient.evaluation import WolframLanguageSession\n",
    "from wolframclient.language import wl, wlexpr"
   ],
   "outputs": [],
   "execution_count": 17
  },
  {
   "metadata": {
    "ExecuteTime": {
     "end_time": "2025-04-13T08:09:55.522889Z",
     "start_time": "2025-04-13T08:09:55.517382Z"
    }
   },
   "cell_type": "code",
   "source": [
    "arr = np.array([\n",
    "    (10, 1), (80, 6), (37, 3),\n",
    "    (90, 10), (31, 2), (50, 4), (17, 1),\n",
    "    (20, 2), (73, 4), (89, 8)\n",
    "])"
   ],
   "id": "69b59fd857cf8425",
   "outputs": [],
   "execution_count": 5
  },
  {
   "metadata": {
    "ExecuteTime": {
     "end_time": "2025-04-13T08:13:19.102126Z",
     "start_time": "2025-04-13T08:13:19.093290Z"
    }
   },
   "cell_type": "code",
   "source": [
    "thresh = np.zeros(len(arr))\n",
    "\n",
    "for i in range(len(arr)):\n",
    "    M, H = arr[i]\n",
    "    thresh[i] = (M - 5 * H) / 500\n",
    "\n",
    "thresh"
   ],
   "id": "63b2786b83a35ace",
   "outputs": [
    {
     "data": {
      "text/plain": [
       "array([0.01 , 0.1  , 0.044, 0.08 , 0.042, 0.06 , 0.024, 0.02 , 0.106,\n",
       "       0.098])"
      ]
     },
     "execution_count": 13,
     "metadata": {},
     "output_type": "execute_result"
    }
   ],
   "execution_count": 13
  },
  {
   "metadata": {
    "ExecuteTime": {
     "end_time": "2025-04-13T08:13:29.614505Z",
     "start_time": "2025-04-13T08:13:29.609918Z"
    }
   },
   "cell_type": "code",
   "source": [
    "maximin = np.zeros(len(arr))\n",
    "\n",
    "for i in range(len(arr)):\n",
    "    M, H = arr[i]\n",
    "    maximin[i] = (7500 * M) / (H + 100)\n",
    "\n",
    "maximin"
   ],
   "id": "9b9d0e25d3cbc108",
   "outputs": [
    {
     "data": {
      "text/plain": [
       "array([ 742.57425743, 5660.37735849, 2694.17475728, 6136.36363636,\n",
       "       2279.41176471, 3605.76923077, 1262.37623762, 1470.58823529,\n",
       "       5264.42307692, 6180.55555556])"
      ]
     },
     "execution_count": 14,
     "metadata": {},
     "output_type": "execute_result"
    }
   ],
   "execution_count": 14
  },
  {
   "metadata": {
    "ExecuteTime": {
     "end_time": "2025-04-13T08:23:29.031107Z",
     "start_time": "2025-04-13T08:23:28.741705Z"
    }
   },
   "cell_type": "code",
   "source": [
    "session = WolframLanguageSession()\n",
    "\n",
    "max_val = float('-inf')\n",
    "max_M1, max_H1 = None, None\n",
    "max_M2, max_H2 = None, None\n",
    "\n",
    "for (M1, H1), (M2, H2) in itertools.combinations(arr, 2):\n",
    "    val_temp = session.evaluate(wlexpr(f'NMinimize[{{{M1}/({H1} + 100*p1) + {M2}/({H2} + 100*p2), 0 <= p1, 0 <= p2, p1 + p2 <= 1}}, {{p1, p2}}]'))[0]\n",
    "    val = -50_000 + val_temp * 10_000\n",
    "    \n",
    "    if math.isclose(val, max_val):\n",
    "        print(\"collision\")\n",
    "        \n",
    "    if val > max_val:\n",
    "        max_M1, max_H1 = M1, H1\n",
    "        max_M2, max_H2 = M2, H2\n",
    "        max_val = val\n",
    "\n",
    "((max_M1, max_H1), (max_M2, max_H2), max_val)"
   ],
   "id": "57bd5ab0ed0e4f28",
   "outputs": [
    {
     "ename": "WolframKernelException",
     "evalue": "Cannot locate a kernel automatically. Please provide an explicit kernel path.",
     "output_type": "error",
     "traceback": [
      "\u001B[31m---------------------------------------------------------------------------\u001B[39m",
      "\u001B[31mWolframKernelException\u001B[39m                    Traceback (most recent call last)",
      "\u001B[36mCell\u001B[39m\u001B[36m \u001B[39m\u001B[32mIn[20]\u001B[39m\u001B[32m, line 1\u001B[39m\n\u001B[32m----> \u001B[39m\u001B[32m1\u001B[39m session = \u001B[43mWolframLanguageSession\u001B[49m\u001B[43m(\u001B[49m\u001B[43m)\u001B[49m\n\u001B[32m      3\u001B[39m max_val = \u001B[38;5;28mfloat\u001B[39m(\u001B[33m'\u001B[39m\u001B[33m-inf\u001B[39m\u001B[33m'\u001B[39m)\n\u001B[32m      4\u001B[39m max_M1, max_H1 = \u001B[38;5;28;01mNone\u001B[39;00m, \u001B[38;5;28;01mNone\u001B[39;00m\n",
      "\u001B[36mFile \u001B[39m\u001B[32m~/Documents/IMC/.venv/lib/python3.13/site-packages/wolframclient/evaluation/kernel/localsession.py:112\u001B[39m, in \u001B[36mWolframLanguageSession.__init__\u001B[39m\u001B[34m(self, kernel, consumer, initfile, kernel_loglevel, stdin, stdout, stderr, inputform_string_evaluation, wxf_bytes_evaluation, controller_class, **kwargs)\u001B[39m\n\u001B[32m    110\u001B[39m \u001B[38;5;28mself\u001B[39m.wxf_bytes_evaluation = wxf_bytes_evaluation\n\u001B[32m    111\u001B[39m \u001B[38;5;28mself\u001B[39m.controller_class = controller_class\n\u001B[32m--> \u001B[39m\u001B[32m112\u001B[39m \u001B[38;5;28mself\u001B[39m.kernel_controller = \u001B[38;5;28;43mself\u001B[39;49m\u001B[43m.\u001B[49m\u001B[43mcontroller_class\u001B[49m\u001B[43m(\u001B[49m\n\u001B[32m    113\u001B[39m \u001B[43m    \u001B[49m\u001B[43mkernel\u001B[49m\u001B[43m=\u001B[49m\u001B[43mkernel\u001B[49m\u001B[43m,\u001B[49m\n\u001B[32m    114\u001B[39m \u001B[43m    \u001B[49m\u001B[43minitfile\u001B[49m\u001B[43m=\u001B[49m\u001B[43minitfile\u001B[49m\u001B[43m,\u001B[49m\n\u001B[32m    115\u001B[39m \u001B[43m    \u001B[49m\u001B[43mkernel_loglevel\u001B[49m\u001B[43m=\u001B[49m\u001B[43mkernel_loglevel\u001B[49m\u001B[43m,\u001B[49m\n\u001B[32m    116\u001B[39m \u001B[43m    \u001B[49m\u001B[43mstdin\u001B[49m\u001B[43m=\u001B[49m\u001B[43mstdin\u001B[49m\u001B[43m,\u001B[49m\n\u001B[32m    117\u001B[39m \u001B[43m    \u001B[49m\u001B[43mstdout\u001B[49m\u001B[43m=\u001B[49m\u001B[43mstdout\u001B[49m\u001B[43m,\u001B[49m\n\u001B[32m    118\u001B[39m \u001B[43m    \u001B[49m\u001B[43mstderr\u001B[49m\u001B[43m=\u001B[49m\u001B[43mstderr\u001B[49m\u001B[43m,\u001B[49m\n\u001B[32m    119\u001B[39m \u001B[43m    \u001B[49m\u001B[43m*\u001B[49m\u001B[43m*\u001B[49m\u001B[43mkwargs\u001B[49m\u001B[43m,\u001B[49m\n\u001B[32m    120\u001B[39m \u001B[43m\u001B[49m\u001B[43m)\u001B[49m\n\u001B[32m    121\u001B[39m \u001B[38;5;28mself\u001B[39m.parameters = kwargs\n\u001B[32m    122\u001B[39m \u001B[38;5;28mself\u001B[39m.stopped = \u001B[38;5;28;01mTrue\u001B[39;00m\n",
      "\u001B[36mFile \u001B[39m\u001B[32m~/Documents/IMC/.venv/lib/python3.13/site-packages/wolframclient/evaluation/kernel/kernelcontroller.py:130\u001B[39m, in \u001B[36mWolframKernelController.__init__\u001B[39m\u001B[34m(self, kernel, initfile, consumer, kernel_loglevel, stdin, stdout, stderr, **kwargs)\u001B[39m\n\u001B[32m    127\u001B[39m         \u001B[38;5;28;01mraise\u001B[39;00m WolframKernelException(\u001B[33m\"\u001B[39m\u001B[33mCannot execute kernel \u001B[39m\u001B[38;5;132;01m%s\u001B[39;00m\u001B[33m.\u001B[39m\u001B[33m\"\u001B[39m % \u001B[38;5;28mself\u001B[39m.kernel)\n\u001B[32m    129\u001B[39m \u001B[38;5;28;01melse\u001B[39;00m:\n\u001B[32m--> \u001B[39m\u001B[32m130\u001B[39m     \u001B[38;5;28;01mraise\u001B[39;00m WolframKernelException(\n\u001B[32m    131\u001B[39m         \u001B[33m\"\u001B[39m\u001B[33mCannot locate a kernel automatically. Please provide an explicit kernel path.\u001B[39m\u001B[33m\"\u001B[39m\n\u001B[32m    132\u001B[39m     )\n\u001B[32m    134\u001B[39m \u001B[38;5;28mself\u001B[39m.initfile = \u001B[38;5;28mtuple\u001B[39m(\n\u001B[32m    135\u001B[39m     iterate(initfile \u001B[38;5;129;01mor\u001B[39;00m (), os.path_join(os.dirname(\u001B[34m__file__\u001B[39m), \u001B[33m\"\u001B[39m\u001B[33minitkernel.m\u001B[39m\u001B[33m\"\u001B[39m))\n\u001B[32m    136\u001B[39m )\n\u001B[32m    137\u001B[39m \u001B[38;5;28;01mfor\u001B[39;00m path \u001B[38;5;129;01min\u001B[39;00m \u001B[38;5;28mself\u001B[39m.initfile:\n",
      "\u001B[31mWolframKernelException\u001B[39m: Cannot locate a kernel automatically. Please provide an explicit kernel path."
     ]
    }
   ],
   "execution_count": 20
  },
  {
   "metadata": {},
   "cell_type": "code",
   "outputs": [],
   "execution_count": null,
   "source": "",
   "id": "a0cc3d2a2c66bb7f"
  }
 ],
 "metadata": {
  "kernelspec": {
   "display_name": "Python 3",
   "language": "python",
   "name": "python3"
  },
  "language_info": {
   "codemirror_mode": {
    "name": "ipython",
    "version": 2
   },
   "file_extension": ".py",
   "mimetype": "text/x-python",
   "name": "python",
   "nbconvert_exporter": "python",
   "pygments_lexer": "ipython2",
   "version": "2.7.6"
  }
 },
 "nbformat": 4,
 "nbformat_minor": 5
}
