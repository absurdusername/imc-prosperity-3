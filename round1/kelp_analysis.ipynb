{
 "cells": [
  {
   "cell_type": "code",
   "id": "initial_id",
   "metadata": {
    "collapsed": true,
    "ExecuteTime": {
     "end_time": "2025-04-15T15:55:52.147357Z",
     "start_time": "2025-04-15T15:55:52.142771Z"
    }
   },
   "source": "import pandas as pd",
   "outputs": [],
   "execution_count": 229
  },
  {
   "metadata": {
    "ExecuteTime": {
     "end_time": "2025-04-15T15:55:52.154097Z",
     "start_time": "2025-04-15T15:55:52.150813Z"
    }
   },
   "cell_type": "code",
   "source": [
    "data_folder = \"data/\"\n",
    "\n",
    "price_files = [\n",
    "    \"prices_round_1_day_-2.csv\",\n",
    "    \"prices_round_1_day_-1.csv\",\n",
    "    \"prices_round_1_day_0.csv\",\n",
    "]\n",
    "\n",
    "trade_files = [\n",
    "    \"trades_round_1_day_-2.csv\",\n",
    "    \"trades_round_1_day_-1.csv\",\n",
    "    \"trades_round_1_day_0.csv\",\n",
    "]"
   ],
   "id": "e7550cf4d45f5d73",
   "outputs": [],
   "execution_count": 230
  },
  {
   "metadata": {
    "ExecuteTime": {
     "end_time": "2025-04-15T15:55:52.255272Z",
     "start_time": "2025-04-15T15:55:52.155406Z"
    }
   },
   "cell_type": "code",
   "source": [
    "prices = pd.concat([\n",
    "    pd.read_csv(data_folder + file, sep=';') \n",
    "    for file in price_files\n",
    "])\n",
    "\n",
    "trades = pd.concat([\n",
    "    pd.read_csv(data_folder + file, sep=';')\n",
    "    for file in trade_files\n",
    "])"
   ],
   "id": "e0ab2697b2a6a7c",
   "outputs": [],
   "execution_count": 231
  },
  {
   "metadata": {
    "ExecuteTime": {
     "end_time": "2025-04-15T15:55:52.271009Z",
     "start_time": "2025-04-15T15:55:52.256823Z"
    }
   },
   "cell_type": "code",
   "source": [
    "kelp_prices = prices[prices[\"product\"] == \"KELP\"]\n",
    "kelp_trades = trades[trades[\"symbol\"] == \"KELP\"]"
   ],
   "id": "ee0a6590ff9a97d9",
   "outputs": [],
   "execution_count": 232
  },
  {
   "metadata": {
    "ExecuteTime": {
     "end_time": "2025-04-15T15:57:28.379886Z",
     "start_time": "2025-04-15T15:57:28.357861Z"
    }
   },
   "cell_type": "code",
   "source": "kelp_prices",
   "id": "2c262da39118bc9f",
   "outputs": [
    {
     "data": {
      "text/plain": [
       "       day  timestamp product  bid_price_1  bid_volume_1  bid_price_2  \\\n",
       "1       -2          0    KELP         1998            26          NaN   \n",
       "5       -2        100    KELP         2000             5       1999.0   \n",
       "6       -2        200    KELP         1999             1       1998.0   \n",
       "10      -2        300    KELP         1999            27          NaN   \n",
       "13      -2        400    KELP         1999            20          NaN   \n",
       "...    ...        ...     ...          ...           ...          ...   \n",
       "29987    0     999500    KELP         2032            28          NaN   \n",
       "29990    0     999600    KELP         2032            36          NaN   \n",
       "29991    0     999700    KELP         2034             1       2032.0   \n",
       "29995    0     999800    KELP         2032            27          NaN   \n",
       "29999    0     999900    KELP         2032            23          NaN   \n",
       "\n",
       "       bid_volume_2  bid_price_3  bid_volume_3  ask_price_1  ask_volume_1  \\\n",
       "1               NaN          NaN           NaN         2002            26   \n",
       "5               6.0       1998.0          20.0         2002            20   \n",
       "6              30.0          NaN           NaN         2002            31   \n",
       "10              NaN          NaN           NaN         2002            27   \n",
       "13              NaN          NaN           NaN         2002            20   \n",
       "...             ...          ...           ...          ...           ...   \n",
       "29987           NaN          NaN           NaN         2035            28   \n",
       "29990           NaN          NaN           NaN         2035            29   \n",
       "29991          26.0          NaN           NaN         2035            26   \n",
       "29995           NaN          NaN           NaN         2034             1   \n",
       "29999           NaN          NaN           NaN         2035            23   \n",
       "\n",
       "       ask_price_2  ask_volume_2  ask_price_3  ask_volume_3  mid_price  \\\n",
       "1              NaN           NaN          NaN           NaN     2000.0   \n",
       "5              NaN           NaN          NaN           NaN     2001.0   \n",
       "6              NaN           NaN          NaN           NaN     2000.5   \n",
       "10             NaN           NaN          NaN           NaN     2000.5   \n",
       "13             NaN           NaN          NaN           NaN     2000.5   \n",
       "...            ...           ...          ...           ...        ...   \n",
       "29987          NaN           NaN          NaN           NaN     2033.5   \n",
       "29990          NaN           NaN          NaN           NaN     2033.5   \n",
       "29991          NaN           NaN          NaN           NaN     2034.5   \n",
       "29995       2035.0          27.0          NaN           NaN     2033.0   \n",
       "29999          NaN           NaN          NaN           NaN     2033.5   \n",
       "\n",
       "       profit_and_loss  \n",
       "1                  0.0  \n",
       "5                  0.0  \n",
       "6                  0.0  \n",
       "10                 0.0  \n",
       "13                 0.0  \n",
       "...                ...  \n",
       "29987              0.0  \n",
       "29990              0.0  \n",
       "29991              0.0  \n",
       "29995              0.0  \n",
       "29999              0.0  \n",
       "\n",
       "[30000 rows x 17 columns]"
      ],
      "text/html": [
       "<div>\n",
       "<style scoped>\n",
       "    .dataframe tbody tr th:only-of-type {\n",
       "        vertical-align: middle;\n",
       "    }\n",
       "\n",
       "    .dataframe tbody tr th {\n",
       "        vertical-align: top;\n",
       "    }\n",
       "\n",
       "    .dataframe thead th {\n",
       "        text-align: right;\n",
       "    }\n",
       "</style>\n",
       "<table border=\"1\" class=\"dataframe\">\n",
       "  <thead>\n",
       "    <tr style=\"text-align: right;\">\n",
       "      <th></th>\n",
       "      <th>day</th>\n",
       "      <th>timestamp</th>\n",
       "      <th>product</th>\n",
       "      <th>bid_price_1</th>\n",
       "      <th>bid_volume_1</th>\n",
       "      <th>bid_price_2</th>\n",
       "      <th>bid_volume_2</th>\n",
       "      <th>bid_price_3</th>\n",
       "      <th>bid_volume_3</th>\n",
       "      <th>ask_price_1</th>\n",
       "      <th>ask_volume_1</th>\n",
       "      <th>ask_price_2</th>\n",
       "      <th>ask_volume_2</th>\n",
       "      <th>ask_price_3</th>\n",
       "      <th>ask_volume_3</th>\n",
       "      <th>mid_price</th>\n",
       "      <th>profit_and_loss</th>\n",
       "    </tr>\n",
       "  </thead>\n",
       "  <tbody>\n",
       "    <tr>\n",
       "      <th>1</th>\n",
       "      <td>-2</td>\n",
       "      <td>0</td>\n",
       "      <td>KELP</td>\n",
       "      <td>1998</td>\n",
       "      <td>26</td>\n",
       "      <td>NaN</td>\n",
       "      <td>NaN</td>\n",
       "      <td>NaN</td>\n",
       "      <td>NaN</td>\n",
       "      <td>2002</td>\n",
       "      <td>26</td>\n",
       "      <td>NaN</td>\n",
       "      <td>NaN</td>\n",
       "      <td>NaN</td>\n",
       "      <td>NaN</td>\n",
       "      <td>2000.0</td>\n",
       "      <td>0.0</td>\n",
       "    </tr>\n",
       "    <tr>\n",
       "      <th>5</th>\n",
       "      <td>-2</td>\n",
       "      <td>100</td>\n",
       "      <td>KELP</td>\n",
       "      <td>2000</td>\n",
       "      <td>5</td>\n",
       "      <td>1999.0</td>\n",
       "      <td>6.0</td>\n",
       "      <td>1998.0</td>\n",
       "      <td>20.0</td>\n",
       "      <td>2002</td>\n",
       "      <td>20</td>\n",
       "      <td>NaN</td>\n",
       "      <td>NaN</td>\n",
       "      <td>NaN</td>\n",
       "      <td>NaN</td>\n",
       "      <td>2001.0</td>\n",
       "      <td>0.0</td>\n",
       "    </tr>\n",
       "    <tr>\n",
       "      <th>6</th>\n",
       "      <td>-2</td>\n",
       "      <td>200</td>\n",
       "      <td>KELP</td>\n",
       "      <td>1999</td>\n",
       "      <td>1</td>\n",
       "      <td>1998.0</td>\n",
       "      <td>30.0</td>\n",
       "      <td>NaN</td>\n",
       "      <td>NaN</td>\n",
       "      <td>2002</td>\n",
       "      <td>31</td>\n",
       "      <td>NaN</td>\n",
       "      <td>NaN</td>\n",
       "      <td>NaN</td>\n",
       "      <td>NaN</td>\n",
       "      <td>2000.5</td>\n",
       "      <td>0.0</td>\n",
       "    </tr>\n",
       "    <tr>\n",
       "      <th>10</th>\n",
       "      <td>-2</td>\n",
       "      <td>300</td>\n",
       "      <td>KELP</td>\n",
       "      <td>1999</td>\n",
       "      <td>27</td>\n",
       "      <td>NaN</td>\n",
       "      <td>NaN</td>\n",
       "      <td>NaN</td>\n",
       "      <td>NaN</td>\n",
       "      <td>2002</td>\n",
       "      <td>27</td>\n",
       "      <td>NaN</td>\n",
       "      <td>NaN</td>\n",
       "      <td>NaN</td>\n",
       "      <td>NaN</td>\n",
       "      <td>2000.5</td>\n",
       "      <td>0.0</td>\n",
       "    </tr>\n",
       "    <tr>\n",
       "      <th>13</th>\n",
       "      <td>-2</td>\n",
       "      <td>400</td>\n",
       "      <td>KELP</td>\n",
       "      <td>1999</td>\n",
       "      <td>20</td>\n",
       "      <td>NaN</td>\n",
       "      <td>NaN</td>\n",
       "      <td>NaN</td>\n",
       "      <td>NaN</td>\n",
       "      <td>2002</td>\n",
       "      <td>20</td>\n",
       "      <td>NaN</td>\n",
       "      <td>NaN</td>\n",
       "      <td>NaN</td>\n",
       "      <td>NaN</td>\n",
       "      <td>2000.5</td>\n",
       "      <td>0.0</td>\n",
       "    </tr>\n",
       "    <tr>\n",
       "      <th>...</th>\n",
       "      <td>...</td>\n",
       "      <td>...</td>\n",
       "      <td>...</td>\n",
       "      <td>...</td>\n",
       "      <td>...</td>\n",
       "      <td>...</td>\n",
       "      <td>...</td>\n",
       "      <td>...</td>\n",
       "      <td>...</td>\n",
       "      <td>...</td>\n",
       "      <td>...</td>\n",
       "      <td>...</td>\n",
       "      <td>...</td>\n",
       "      <td>...</td>\n",
       "      <td>...</td>\n",
       "      <td>...</td>\n",
       "      <td>...</td>\n",
       "    </tr>\n",
       "    <tr>\n",
       "      <th>29987</th>\n",
       "      <td>0</td>\n",
       "      <td>999500</td>\n",
       "      <td>KELP</td>\n",
       "      <td>2032</td>\n",
       "      <td>28</td>\n",
       "      <td>NaN</td>\n",
       "      <td>NaN</td>\n",
       "      <td>NaN</td>\n",
       "      <td>NaN</td>\n",
       "      <td>2035</td>\n",
       "      <td>28</td>\n",
       "      <td>NaN</td>\n",
       "      <td>NaN</td>\n",
       "      <td>NaN</td>\n",
       "      <td>NaN</td>\n",
       "      <td>2033.5</td>\n",
       "      <td>0.0</td>\n",
       "    </tr>\n",
       "    <tr>\n",
       "      <th>29990</th>\n",
       "      <td>0</td>\n",
       "      <td>999600</td>\n",
       "      <td>KELP</td>\n",
       "      <td>2032</td>\n",
       "      <td>36</td>\n",
       "      <td>NaN</td>\n",
       "      <td>NaN</td>\n",
       "      <td>NaN</td>\n",
       "      <td>NaN</td>\n",
       "      <td>2035</td>\n",
       "      <td>29</td>\n",
       "      <td>NaN</td>\n",
       "      <td>NaN</td>\n",
       "      <td>NaN</td>\n",
       "      <td>NaN</td>\n",
       "      <td>2033.5</td>\n",
       "      <td>0.0</td>\n",
       "    </tr>\n",
       "    <tr>\n",
       "      <th>29991</th>\n",
       "      <td>0</td>\n",
       "      <td>999700</td>\n",
       "      <td>KELP</td>\n",
       "      <td>2034</td>\n",
       "      <td>1</td>\n",
       "      <td>2032.0</td>\n",
       "      <td>26.0</td>\n",
       "      <td>NaN</td>\n",
       "      <td>NaN</td>\n",
       "      <td>2035</td>\n",
       "      <td>26</td>\n",
       "      <td>NaN</td>\n",
       "      <td>NaN</td>\n",
       "      <td>NaN</td>\n",
       "      <td>NaN</td>\n",
       "      <td>2034.5</td>\n",
       "      <td>0.0</td>\n",
       "    </tr>\n",
       "    <tr>\n",
       "      <th>29995</th>\n",
       "      <td>0</td>\n",
       "      <td>999800</td>\n",
       "      <td>KELP</td>\n",
       "      <td>2032</td>\n",
       "      <td>27</td>\n",
       "      <td>NaN</td>\n",
       "      <td>NaN</td>\n",
       "      <td>NaN</td>\n",
       "      <td>NaN</td>\n",
       "      <td>2034</td>\n",
       "      <td>1</td>\n",
       "      <td>2035.0</td>\n",
       "      <td>27.0</td>\n",
       "      <td>NaN</td>\n",
       "      <td>NaN</td>\n",
       "      <td>2033.0</td>\n",
       "      <td>0.0</td>\n",
       "    </tr>\n",
       "    <tr>\n",
       "      <th>29999</th>\n",
       "      <td>0</td>\n",
       "      <td>999900</td>\n",
       "      <td>KELP</td>\n",
       "      <td>2032</td>\n",
       "      <td>23</td>\n",
       "      <td>NaN</td>\n",
       "      <td>NaN</td>\n",
       "      <td>NaN</td>\n",
       "      <td>NaN</td>\n",
       "      <td>2035</td>\n",
       "      <td>23</td>\n",
       "      <td>NaN</td>\n",
       "      <td>NaN</td>\n",
       "      <td>NaN</td>\n",
       "      <td>NaN</td>\n",
       "      <td>2033.5</td>\n",
       "      <td>0.0</td>\n",
       "    </tr>\n",
       "  </tbody>\n",
       "</table>\n",
       "<p>30000 rows × 17 columns</p>\n",
       "</div>"
      ]
     },
     "execution_count": 243,
     "metadata": {},
     "output_type": "execute_result"
    }
   ],
   "execution_count": 243
  },
  {
   "metadata": {
    "ExecuteTime": {
     "end_time": "2025-04-15T15:58:10.305088Z",
     "start_time": "2025-04-15T15:58:10.298532Z"
    }
   },
   "cell_type": "code",
   "source": "mid_prices = kelp_prices['mid_price'].to_numpy()",
   "id": "c83b274fca488411",
   "outputs": [],
   "execution_count": 247
  },
  {
   "metadata": {
    "ExecuteTime": {
     "end_time": "2025-04-15T15:59:18.905632Z",
     "start_time": "2025-04-15T15:59:18.511763Z"
    }
   },
   "cell_type": "code",
   "source": [
    "X = []\n",
    "\n",
    "for i in range(29000):\n",
    "    X.append([])\n",
    "    for x in mid_prices[i:i+5]:\n",
    "        X[-1].append(x)\n",
    "\n",
    "y = [mid_prices[i + 5] for i in range(29000)]\n",
    "\n",
    "from sklearn.model_selection import train_test_split\n",
    "X_train, X_test, y_train, y_test = X[:20_000], X[20_000:], y[:20_000], y[20_000:]\n",
    "\n",
    "from sklearn.linear_model import LinearRegression\n",
    "lr = LinearRegression()\n",
    "\n",
    "lr.fit(X_train, y_train)\n",
    "y_pred = lr.predict(X_test)\n",
    "\n",
    "from sklearn.metrics import mean_squared_error\n",
    "mse = mean_squared_error(y_test, y_pred)"
   ],
   "id": "60c878bed26c17a0",
   "outputs": [],
   "execution_count": 275
  },
  {
   "metadata": {
    "ExecuteTime": {
     "end_time": "2025-04-15T16:09:51.050671Z",
     "start_time": "2025-04-15T16:09:50.971544Z"
    }
   },
   "cell_type": "code",
   "source": [
    "import matplotlib.pyplot as plt\n",
    "\n",
    "start = 1700\n",
    "end = start + 50\n",
    "\n",
    "plt.figure(figsize=(10, 6))\n",
    "plt.plot(range(start, end), y_test[start: end], label=\"actual\")\n",
    "plt.plot(range(start, end), y_pred[start: end], label=\"predicted\")"
   ],
   "id": "6340d46b70bf2c95",
   "outputs": [
    {
     "data": {
      "text/plain": [
       "[<matplotlib.lines.Line2D at 0x15f0e0190>]"
      ]
     },
     "execution_count": 290,
     "metadata": {},
     "output_type": "execute_result"
    },
    {
     "data": {
      "text/plain": [
       "<Figure size 1000x600 with 1 Axes>"
      ],
      "image/png": "[encoded data removed]"
     },
     "metadata": {},
     "output_type": "display_data"
    }
   ],
   "execution_count": 290
  },
  {
   "metadata": {
    "ExecuteTime": {
     "end_time": "2025-04-15T15:59:21.629544Z",
     "start_time": "2025-04-15T15:59:21.624970Z"
    }
   },
   "cell_type": "code",
   "source": "mse",
   "id": "2773b2d6e53834f",
   "outputs": [
    {
     "data": {
      "text/plain": [
       "0.3950277310332459"
      ]
     },
     "execution_count": 277,
     "metadata": {},
     "output_type": "execute_result"
    }
   ],
   "execution_count": 277
  },
  {
   "metadata": {
    "ExecuteTime": {
     "end_time": "2025-04-15T16:02:02.682363Z",
     "start_time": "2025-04-15T16:02:02.669138Z"
    }
   },
   "cell_type": "code",
   "source": "y_test[1705:1740] - y_pred[1705:1740]",
   "id": "2447317fc245aa18",
   "outputs": [
    {
     "data": {
      "text/plain": [
       "array([ 0.309799  , -0.41417178, -0.33519797, -1.72206294,  0.32045833,\n",
       "       -0.72344716,  2.067463  ,  0.00583285,  1.56079839,  0.45358432,\n",
       "       -0.71361341, -1.18741794, -0.22998268, -0.24951481,  1.44645966,\n",
       "       -0.37209083, -0.25411336, -0.73893192, -1.0632149 , -0.29176959,\n",
       "       -0.02608052,  0.01999516,  0.58651007, -0.06829056, -0.10245177,\n",
       "       -0.07270063,  0.93485644, -0.36948032, -0.2155868 , -0.65608452,\n",
       "        0.51207542, -0.67737148,  0.63397791, -0.03678459, -1.02082271])"
      ]
     },
     "execution_count": 284,
     "metadata": {},
     "output_type": "execute_result"
    }
   ],
   "execution_count": 284
  },
  {
   "metadata": {
    "ExecuteTime": {
     "end_time": "2025-04-15T16:02:37.958916Z",
     "start_time": "2025-04-15T16:02:37.940825Z"
    }
   },
   "cell_type": "code",
   "source": "lr.coef_",
   "id": "d0b77ee44700f551",
   "outputs": [
    {
     "data": {
      "text/plain": [
       "array([0.14814397, 0.15165363, 0.16676778, 0.22627006, 0.30609159])"
      ]
     },
     "execution_count": 285,
     "metadata": {},
     "output_type": "execute_result"
    }
   ],
   "execution_count": 285
  },
  {
   "metadata": {
    "ExecuteTime": {
     "end_time": "2025-04-15T16:02:54.872724Z",
     "start_time": "2025-04-15T16:02:54.863600Z"
    }
   },
   "cell_type": "code",
   "source": "lr.intercept_",
   "id": "a0ebd6b862ae7f21",
   "outputs": [
    {
     "data": {
      "text/plain": [
       "np.float64(2.169063335177043)"
      ]
     },
     "execution_count": 287,
     "metadata": {},
     "output_type": "execute_result"
    }
   ],
   "execution_count": 287
  }
 ],
 "metadata": {
  "kernelspec": {
   "display_name": "Python 3",
   "language": "python",
   "name": "python3"
  },
  "language_info": {
   "codemirror_mode": {
    "name": "ipython",
    "version": 2
   },
   "file_extension": ".py",
   "mimetype": "text/x-python",
   "name": "python",
   "nbconvert_exporter": "python",
   "pygments_lexer": "ipython2",
   "version": "2.7.6"
  }
 },
 "nbformat": 4,
 "nbformat_minor": 5
}
