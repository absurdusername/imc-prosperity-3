{
 "cells": [
  {
   "cell_type": "code",
   "execution_count": 3,
   "id": "initial_id",
   "metadata": {
    "ExecuteTime": {
     "end_time": "2025-04-10T09:33:41.900263Z",
     "start_time": "2025-04-10T09:33:41.897913Z"
    },
    "collapsed": true
   },
   "outputs": [],
   "source": [
    "import pandas as pd\n",
    "import matplotlib.pyplot as plt\n",
    "import numpy as np"
   ]
  },
  {
   "cell_type": "markdown",
   "id": "2c663660",
   "metadata": {},
   "source": [
    "# Data Preprocessing"
   ]
  },
  {
   "cell_type": "code",
   "execution_count": 4,
   "id": "2c1cac7d37f8447a",
   "metadata": {
    "ExecuteTime": {
     "end_time": "2025-04-10T09:33:41.974004Z",
     "start_time": "2025-04-10T09:33:41.971625Z"
    }
   },
   "outputs": [],
   "source": [
    "data_folder = \"data/\"\n",
    "\n",
    "price_files = [\n",
    "    \"prices_round_1_day_-2.csv\",\n",
    "    # \"prices_round_1_day_-1.csv\",\n",
    "    # \"prices_round_1_day_0.csv\",\n",
    "]\n",
    "\n",
    "trade_files = [\n",
    "    \"trades_round_1_day_-2.csv\",\n",
    "    # \"trades_round_1_day_-1.csv\",\n",
    "    # \"trades_round_1_day_0.csv\",\n",
    "]"
   ]
  },
  {
   "cell_type": "code",
   "execution_count": 5,
   "id": "d6eb4ff673b63e1e",
   "metadata": {
    "ExecuteTime": {
     "end_time": "2025-04-10T09:33:42.010755Z",
     "start_time": "2025-04-10T09:33:41.975332Z"
    }
   },
   "outputs": [],
   "source": [
    "prices = pd.concat([\n",
    "    pd.read_csv(data_folder + file, sep=';') \n",
    "    for file in price_files\n",
    "])\n",
    "\n",
    "trades = pd.concat([\n",
    "    pd.read_csv(data_folder + file, sep=';')\n",
    "    for file in trade_files\n",
    "])"
   ]
  },
  {
   "cell_type": "code",
   "execution_count": 6,
   "id": "4112f696",
   "metadata": {
    "ExecuteTime": {
     "end_time": "2025-04-10T09:33:42.019566Z",
     "start_time": "2025-04-10T09:33:42.012195Z"
    }
   },
   "outputs": [
    {
     "data": {
      "text/html": [
       "<div>\n",
       "<style scoped>\n",
       "    .dataframe tbody tr th:only-of-type {\n",
       "        vertical-align: middle;\n",
       "    }\n",
       "\n",
       "    .dataframe tbody tr th {\n",
       "        vertical-align: top;\n",
       "    }\n",
       "\n",
       "    .dataframe thead th {\n",
       "        text-align: right;\n",
       "    }\n",
       "</style>\n",
       "<table border=\"1\" class=\"dataframe\">\n",
       "  <thead>\n",
       "    <tr style=\"text-align: right;\">\n",
       "      <th></th>\n",
       "      <th>timestamp</th>\n",
       "      <th>price</th>\n",
       "      <th>quantity</th>\n",
       "    </tr>\n",
       "  </thead>\n",
       "  <tbody>\n",
       "    <tr>\n",
       "      <th>5</th>\n",
       "      <td>100</td>\n",
       "      <td>2001.0</td>\n",
       "      <td>6</td>\n",
       "    </tr>\n",
       "    <tr>\n",
       "      <th>7</th>\n",
       "      <td>1000</td>\n",
       "      <td>1999.0</td>\n",
       "      <td>10</td>\n",
       "    </tr>\n",
       "    <tr>\n",
       "      <th>19</th>\n",
       "      <td>2100</td>\n",
       "      <td>2001.0</td>\n",
       "      <td>4</td>\n",
       "    </tr>\n",
       "    <tr>\n",
       "      <th>22</th>\n",
       "      <td>2500</td>\n",
       "      <td>1999.0</td>\n",
       "      <td>11</td>\n",
       "    </tr>\n",
       "    <tr>\n",
       "      <th>28</th>\n",
       "      <td>3300</td>\n",
       "      <td>1999.0</td>\n",
       "      <td>2</td>\n",
       "    </tr>\n",
       "  </tbody>\n",
       "</table>\n",
       "</div>"
      ],
      "text/plain": [
       "    timestamp   price  quantity\n",
       "5         100  2001.0         6\n",
       "7        1000  1999.0        10\n",
       "19       2100  2001.0         4\n",
       "22       2500  1999.0        11\n",
       "28       3300  1999.0         2"
      ]
     },
     "execution_count": 6,
     "metadata": {},
     "output_type": "execute_result"
    }
   ],
   "source": [
    "squid_trades = trades[(trades['symbol'] == \"SQUID_INK\") & (trades['quantity'] > 1)]\n",
    "squid_trades = squid_trades[['timestamp', 'price', 'quantity']]\n",
    "squid_trades.head()"
   ]
  },
  {
   "cell_type": "code",
   "execution_count": 7,
   "id": "4d1e7bc2",
   "metadata": {
    "ExecuteTime": {
     "end_time": "2025-04-10T09:33:42.033774Z",
     "start_time": "2025-04-10T09:33:42.020373Z"
    }
   },
   "outputs": [
    {
     "data": {
      "text/html": [
       "<div>\n",
       "<style scoped>\n",
       "    .dataframe tbody tr th:only-of-type {\n",
       "        vertical-align: middle;\n",
       "    }\n",
       "\n",
       "    .dataframe tbody tr th {\n",
       "        vertical-align: top;\n",
       "    }\n",
       "\n",
       "    .dataframe thead th {\n",
       "        text-align: right;\n",
       "    }\n",
       "</style>\n",
       "<table border=\"1\" class=\"dataframe\">\n",
       "  <thead>\n",
       "    <tr style=\"text-align: right;\">\n",
       "      <th></th>\n",
       "      <th>day</th>\n",
       "      <th>timestamp</th>\n",
       "      <th>product</th>\n",
       "      <th>bid_price_1</th>\n",
       "      <th>bid_volume_1</th>\n",
       "      <th>bid_price_2</th>\n",
       "      <th>bid_volume_2</th>\n",
       "      <th>bid_price_3</th>\n",
       "      <th>bid_volume_3</th>\n",
       "      <th>ask_price_1</th>\n",
       "      <th>ask_volume_1</th>\n",
       "      <th>ask_price_2</th>\n",
       "      <th>ask_volume_2</th>\n",
       "      <th>ask_price_3</th>\n",
       "      <th>ask_volume_3</th>\n",
       "      <th>mid_price</th>\n",
       "      <th>profit_and_loss</th>\n",
       "    </tr>\n",
       "  </thead>\n",
       "  <tbody>\n",
       "    <tr>\n",
       "      <th>2</th>\n",
       "      <td>-2</td>\n",
       "      <td>0</td>\n",
       "      <td>SQUID_INK</td>\n",
       "      <td>1998</td>\n",
       "      <td>26</td>\n",
       "      <td>0.0</td>\n",
       "      <td>0.0</td>\n",
       "      <td>0.0</td>\n",
       "      <td>0.0</td>\n",
       "      <td>2002</td>\n",
       "      <td>26</td>\n",
       "      <td>0.0</td>\n",
       "      <td>0.0</td>\n",
       "      <td>0.0</td>\n",
       "      <td>0.0</td>\n",
       "      <td>2000.0</td>\n",
       "      <td>0.0</td>\n",
       "    </tr>\n",
       "    <tr>\n",
       "      <th>3</th>\n",
       "      <td>-2</td>\n",
       "      <td>100</td>\n",
       "      <td>SQUID_INK</td>\n",
       "      <td>1999</td>\n",
       "      <td>5</td>\n",
       "      <td>1998.0</td>\n",
       "      <td>26.0</td>\n",
       "      <td>0.0</td>\n",
       "      <td>0.0</td>\n",
       "      <td>2001</td>\n",
       "      <td>20</td>\n",
       "      <td>0.0</td>\n",
       "      <td>0.0</td>\n",
       "      <td>0.0</td>\n",
       "      <td>0.0</td>\n",
       "      <td>2000.0</td>\n",
       "      <td>0.0</td>\n",
       "    </tr>\n",
       "    <tr>\n",
       "      <th>7</th>\n",
       "      <td>-2</td>\n",
       "      <td>200</td>\n",
       "      <td>SQUID_INK</td>\n",
       "      <td>1997</td>\n",
       "      <td>31</td>\n",
       "      <td>0.0</td>\n",
       "      <td>0.0</td>\n",
       "      <td>0.0</td>\n",
       "      <td>0.0</td>\n",
       "      <td>2000</td>\n",
       "      <td>1</td>\n",
       "      <td>2001.0</td>\n",
       "      <td>30.0</td>\n",
       "      <td>0.0</td>\n",
       "      <td>0.0</td>\n",
       "      <td>1998.5</td>\n",
       "      <td>0.0</td>\n",
       "    </tr>\n",
       "    <tr>\n",
       "      <th>11</th>\n",
       "      <td>-2</td>\n",
       "      <td>300</td>\n",
       "      <td>SQUID_INK</td>\n",
       "      <td>1997</td>\n",
       "      <td>27</td>\n",
       "      <td>0.0</td>\n",
       "      <td>0.0</td>\n",
       "      <td>0.0</td>\n",
       "      <td>0.0</td>\n",
       "      <td>2000</td>\n",
       "      <td>27</td>\n",
       "      <td>0.0</td>\n",
       "      <td>0.0</td>\n",
       "      <td>0.0</td>\n",
       "      <td>0.0</td>\n",
       "      <td>1998.5</td>\n",
       "      <td>0.0</td>\n",
       "    </tr>\n",
       "    <tr>\n",
       "      <th>14</th>\n",
       "      <td>-2</td>\n",
       "      <td>400</td>\n",
       "      <td>SQUID_INK</td>\n",
       "      <td>1996</td>\n",
       "      <td>20</td>\n",
       "      <td>0.0</td>\n",
       "      <td>0.0</td>\n",
       "      <td>0.0</td>\n",
       "      <td>0.0</td>\n",
       "      <td>2000</td>\n",
       "      <td>20</td>\n",
       "      <td>0.0</td>\n",
       "      <td>0.0</td>\n",
       "      <td>0.0</td>\n",
       "      <td>0.0</td>\n",
       "      <td>1998.0</td>\n",
       "      <td>0.0</td>\n",
       "    </tr>\n",
       "  </tbody>\n",
       "</table>\n",
       "</div>"
      ],
      "text/plain": [
       "    day  timestamp    product  bid_price_1  bid_volume_1  bid_price_2  \\\n",
       "2    -2          0  SQUID_INK         1998            26          0.0   \n",
       "3    -2        100  SQUID_INK         1999             5       1998.0   \n",
       "7    -2        200  SQUID_INK         1997            31          0.0   \n",
       "11   -2        300  SQUID_INK         1997            27          0.0   \n",
       "14   -2        400  SQUID_INK         1996            20          0.0   \n",
       "\n",
       "    bid_volume_2  bid_price_3  bid_volume_3  ask_price_1  ask_volume_1  \\\n",
       "2            0.0          0.0           0.0         2002            26   \n",
       "3           26.0          0.0           0.0         2001            20   \n",
       "7            0.0          0.0           0.0         2000             1   \n",
       "11           0.0          0.0           0.0         2000            27   \n",
       "14           0.0          0.0           0.0         2000            20   \n",
       "\n",
       "    ask_price_2  ask_volume_2  ask_price_3  ask_volume_3  mid_price  \\\n",
       "2           0.0           0.0          0.0           0.0     2000.0   \n",
       "3           0.0           0.0          0.0           0.0     2000.0   \n",
       "7        2001.0          30.0          0.0           0.0     1998.5   \n",
       "11          0.0           0.0          0.0           0.0     1998.5   \n",
       "14          0.0           0.0          0.0           0.0     1998.0   \n",
       "\n",
       "    profit_and_loss  \n",
       "2               0.0  \n",
       "3               0.0  \n",
       "7               0.0  \n",
       "11              0.0  \n",
       "14              0.0  "
      ]
     },
     "execution_count": 7,
     "metadata": {},
     "output_type": "execute_result"
    }
   ],
   "source": [
    "squid_prices = prices[prices['product'] == \"SQUID_INK\"]\n",
    "squid_prices = squid_prices.fillna(0)\n",
    "squid_prices.head()"
   ]
  },
  {
   "cell_type": "markdown",
   "id": "66fdd0f316442b67",
   "metadata": {},
   "source": []
  },
  {
   "cell_type": "markdown",
   "id": "aa2d03a7",
   "metadata": {},
   "source": [
    "# Numpy ily"
   ]
  },
  {
   "cell_type": "code",
   "execution_count": 8,
   "id": "cabc3f2f",
   "metadata": {
    "ExecuteTime": {
     "end_time": "2025-04-10T09:33:42.041735Z",
     "start_time": "2025-04-10T09:33:42.035873Z"
    }
   },
   "outputs": [],
   "source": [
    "fml = pd.DataFrame()"
   ]
  },
  {
   "cell_type": "code",
   "execution_count": 9,
   "id": "8d1070b6",
   "metadata": {
    "ExecuteTime": {
     "end_time": "2025-04-10T09:33:42.071997Z",
     "start_time": "2025-04-10T09:33:42.042690Z"
    }
   },
   "outputs": [
    {
     "data": {
      "text/html": [
       "<div>\n",
       "<style scoped>\n",
       "    .dataframe tbody tr th:only-of-type {\n",
       "        vertical-align: middle;\n",
       "    }\n",
       "\n",
       "    .dataframe tbody tr th {\n",
       "        vertical-align: top;\n",
       "    }\n",
       "\n",
       "    .dataframe thead th {\n",
       "        text-align: right;\n",
       "    }\n",
       "</style>\n",
       "<table border=\"1\" class=\"dataframe\">\n",
       "  <thead>\n",
       "    <tr style=\"text-align: right;\">\n",
       "      <th></th>\n",
       "      <th>timestamp</th>\n",
       "      <th>max_vol_trade_price</th>\n",
       "    </tr>\n",
       "  </thead>\n",
       "  <tbody>\n",
       "    <tr>\n",
       "      <th>0</th>\n",
       "      <td>100.0</td>\n",
       "      <td>2001.0</td>\n",
       "    </tr>\n",
       "    <tr>\n",
       "      <th>1</th>\n",
       "      <td>1000.0</td>\n",
       "      <td>1999.0</td>\n",
       "    </tr>\n",
       "    <tr>\n",
       "      <th>2</th>\n",
       "      <td>2100.0</td>\n",
       "      <td>2001.0</td>\n",
       "    </tr>\n",
       "    <tr>\n",
       "      <th>3</th>\n",
       "      <td>2500.0</td>\n",
       "      <td>1999.0</td>\n",
       "    </tr>\n",
       "    <tr>\n",
       "      <th>4</th>\n",
       "      <td>3300.0</td>\n",
       "      <td>1999.0</td>\n",
       "    </tr>\n",
       "  </tbody>\n",
       "</table>\n",
       "</div>"
      ],
      "text/plain": [
       "   timestamp  max_vol_trade_price\n",
       "0      100.0               2001.0\n",
       "1     1000.0               1999.0\n",
       "2     2100.0               2001.0\n",
       "3     2500.0               1999.0\n",
       "4     3300.0               1999.0"
      ]
     },
     "execution_count": 9,
     "metadata": {},
     "output_type": "execute_result"
    }
   ],
   "source": [
    "from collections import defaultdict\n",
    "\n",
    "D = defaultdict(lambda: defaultdict(int))\n",
    "for _, (timestamp, price, quantity) in squid_trades.iterrows():\n",
    "    D[timestamp][price] += quantity\n",
    "\n",
    "data = []\n",
    "for timestamp in D:\n",
    "    max_vol_price = max(D[timestamp], key=D[timestamp].get)\n",
    "    data.append((timestamp, max_vol_price))\n",
    "\n",
    "max_vol_squid_trades = pd.DataFrame(data, columns=['timestamp', 'max_vol_trade_price'])\n",
    "max_vol_squid_trades.head()"
   ]
  },
  {
   "cell_type": "code",
   "execution_count": 10,
   "id": "f1f1816c",
   "metadata": {
    "ExecuteTime": {
     "end_time": "2025-04-10T09:33:42.220163Z",
     "start_time": "2025-04-10T09:33:42.072770Z"
    }
   },
   "outputs": [
    {
     "data": {
      "text/html": [
       "<div>\n",
       "<style scoped>\n",
       "    .dataframe tbody tr th:only-of-type {\n",
       "        vertical-align: middle;\n",
       "    }\n",
       "\n",
       "    .dataframe tbody tr th {\n",
       "        vertical-align: top;\n",
       "    }\n",
       "\n",
       "    .dataframe thead th {\n",
       "        text-align: right;\n",
       "    }\n",
       "</style>\n",
       "<table border=\"1\" class=\"dataframe\">\n",
       "  <thead>\n",
       "    <tr style=\"text-align: right;\">\n",
       "      <th></th>\n",
       "      <th>timestamp</th>\n",
       "      <th>max_vol_bid_price</th>\n",
       "    </tr>\n",
       "  </thead>\n",
       "  <tbody>\n",
       "    <tr>\n",
       "      <th>2</th>\n",
       "      <td>0</td>\n",
       "      <td>1998.0</td>\n",
       "    </tr>\n",
       "    <tr>\n",
       "      <th>3</th>\n",
       "      <td>100</td>\n",
       "      <td>1998.0</td>\n",
       "    </tr>\n",
       "    <tr>\n",
       "      <th>7</th>\n",
       "      <td>200</td>\n",
       "      <td>1997.0</td>\n",
       "    </tr>\n",
       "    <tr>\n",
       "      <th>11</th>\n",
       "      <td>300</td>\n",
       "      <td>1997.0</td>\n",
       "    </tr>\n",
       "    <tr>\n",
       "      <th>14</th>\n",
       "      <td>400</td>\n",
       "      <td>1996.0</td>\n",
       "    </tr>\n",
       "    <tr>\n",
       "      <th>...</th>\n",
       "      <td>...</td>\n",
       "      <td>...</td>\n",
       "    </tr>\n",
       "    <tr>\n",
       "      <th>29986</th>\n",
       "      <td>999500</td>\n",
       "      <td>2000.0</td>\n",
       "    </tr>\n",
       "    <tr>\n",
       "      <th>29990</th>\n",
       "      <td>999600</td>\n",
       "      <td>2001.0</td>\n",
       "    </tr>\n",
       "    <tr>\n",
       "      <th>29992</th>\n",
       "      <td>999700</td>\n",
       "      <td>2001.0</td>\n",
       "    </tr>\n",
       "    <tr>\n",
       "      <th>29994</th>\n",
       "      <td>999800</td>\n",
       "      <td>2002.0</td>\n",
       "    </tr>\n",
       "    <tr>\n",
       "      <th>29999</th>\n",
       "      <td>999900</td>\n",
       "      <td>2002.0</td>\n",
       "    </tr>\n",
       "  </tbody>\n",
       "</table>\n",
       "<p>10000 rows × 2 columns</p>\n",
       "</div>"
      ],
      "text/plain": [
       "       timestamp  max_vol_bid_price\n",
       "2              0             1998.0\n",
       "3            100             1998.0\n",
       "7            200             1997.0\n",
       "11           300             1997.0\n",
       "14           400             1996.0\n",
       "...          ...                ...\n",
       "29986     999500             2000.0\n",
       "29990     999600             2001.0\n",
       "29992     999700             2001.0\n",
       "29994     999800             2002.0\n",
       "29999     999900             2002.0\n",
       "\n",
       "[10000 rows x 2 columns]"
      ]
     },
     "execution_count": 10,
     "metadata": {},
     "output_type": "execute_result"
    }
   ],
   "source": [
    "def get_max_volume_bid_price(row):\n",
    "    bid_volumes = [row['bid_volume_1'], row['bid_volume_2'], row['bid_volume_3']]\n",
    "    bid_prices = [row['bid_price_1'], row['bid_price_2'], row['bid_price_3']]\n",
    "    \n",
    "    max_volume_index = np.argmax(bid_volumes)\n",
    "    return bid_prices[max_volume_index]\n",
    "\n",
    "squid_prices['max_vol_bid_price'] = squid_prices.apply(get_max_volume_bid_price, axis=1)\n",
    "squid_prices[['timestamp', 'max_vol_bid_price']]"
   ]
  },
  {
   "cell_type": "code",
   "execution_count": 11,
   "id": "c619b66c",
   "metadata": {},
   "outputs": [
    {
     "data": {
      "text/plain": [
       "[<matplotlib.lines.Line2D at 0x154dce850>]"
      ]
     },
     "execution_count": 11,
     "metadata": {},
     "output_type": "execute_result"
    },
    {
     "data": {
      "image/png": "[encoded data removed]",
      "text/plain": [
       "<Figure size 640x480 with 1 Axes>"
      ]
     },
     "metadata": {},
     "output_type": "display_data"
    }
   ],
   "source": [
    "log_prices = np.log(squid_prices[squid_prices['timestamp'] <= 10_000]['max_vol_bid_price'])\n",
    "plt.plot(log_prices)\n"
   ]
  },
  {
   "cell_type": "code",
   "execution_count": 12,
   "id": "f13a9f4e",
   "metadata": {
    "ExecuteTime": {
     "end_time": "2025-04-10T09:33:42.375468Z",
     "start_time": "2025-04-10T09:33:42.221630Z"
    }
   },
   "outputs": [
    {
     "data": {
      "text/html": [
       "<div>\n",
       "<style scoped>\n",
       "    .dataframe tbody tr th:only-of-type {\n",
       "        vertical-align: middle;\n",
       "    }\n",
       "\n",
       "    .dataframe tbody tr th {\n",
       "        vertical-align: top;\n",
       "    }\n",
       "\n",
       "    .dataframe thead th {\n",
       "        text-align: right;\n",
       "    }\n",
       "</style>\n",
       "<table border=\"1\" class=\"dataframe\">\n",
       "  <thead>\n",
       "    <tr style=\"text-align: right;\">\n",
       "      <th></th>\n",
       "      <th>timestamp</th>\n",
       "      <th>max_vol_ask_price</th>\n",
       "    </tr>\n",
       "  </thead>\n",
       "  <tbody>\n",
       "    <tr>\n",
       "      <th>2</th>\n",
       "      <td>0</td>\n",
       "      <td>2002.0</td>\n",
       "    </tr>\n",
       "    <tr>\n",
       "      <th>3</th>\n",
       "      <td>100</td>\n",
       "      <td>2001.0</td>\n",
       "    </tr>\n",
       "    <tr>\n",
       "      <th>7</th>\n",
       "      <td>200</td>\n",
       "      <td>2001.0</td>\n",
       "    </tr>\n",
       "    <tr>\n",
       "      <th>11</th>\n",
       "      <td>300</td>\n",
       "      <td>2000.0</td>\n",
       "    </tr>\n",
       "    <tr>\n",
       "      <th>14</th>\n",
       "      <td>400</td>\n",
       "      <td>2000.0</td>\n",
       "    </tr>\n",
       "    <tr>\n",
       "      <th>...</th>\n",
       "      <td>...</td>\n",
       "      <td>...</td>\n",
       "    </tr>\n",
       "    <tr>\n",
       "      <th>29986</th>\n",
       "      <td>999500</td>\n",
       "      <td>2003.0</td>\n",
       "    </tr>\n",
       "    <tr>\n",
       "      <th>29990</th>\n",
       "      <td>999600</td>\n",
       "      <td>2004.0</td>\n",
       "    </tr>\n",
       "    <tr>\n",
       "      <th>29992</th>\n",
       "      <td>999700</td>\n",
       "      <td>2005.0</td>\n",
       "    </tr>\n",
       "    <tr>\n",
       "      <th>29994</th>\n",
       "      <td>999800</td>\n",
       "      <td>2005.0</td>\n",
       "    </tr>\n",
       "    <tr>\n",
       "      <th>29999</th>\n",
       "      <td>999900</td>\n",
       "      <td>2005.0</td>\n",
       "    </tr>\n",
       "  </tbody>\n",
       "</table>\n",
       "<p>10000 rows × 2 columns</p>\n",
       "</div>"
      ],
      "text/plain": [
       "       timestamp  max_vol_ask_price\n",
       "2              0             2002.0\n",
       "3            100             2001.0\n",
       "7            200             2001.0\n",
       "11           300             2000.0\n",
       "14           400             2000.0\n",
       "...          ...                ...\n",
       "29986     999500             2003.0\n",
       "29990     999600             2004.0\n",
       "29992     999700             2005.0\n",
       "29994     999800             2005.0\n",
       "29999     999900             2005.0\n",
       "\n",
       "[10000 rows x 2 columns]"
      ]
     },
     "execution_count": 12,
     "metadata": {},
     "output_type": "execute_result"
    }
   ],
   "source": [
    "def get_max_volume_ask_price(row):\n",
    "    ask_volumes = [row['ask_volume_1'], row['ask_volume_2'], row['ask_volume_3']]\n",
    "    ask_prices = [row['ask_price_1'], row['ask_price_2'], row['ask_price_3']]\n",
    "    \n",
    "    max_volume_index = np.argmax(ask_volumes)\n",
    "    return ask_prices[max_volume_index]\n",
    "\n",
    "squid_prices['max_vol_ask_price'] = squid_prices.apply(get_max_volume_ask_price, axis=1)\n",
    "squid_prices[['timestamp', 'max_vol_ask_price']]"
   ]
  },
  {
   "cell_type": "code",
   "execution_count": 13,
   "id": "37dd241e",
   "metadata": {
    "ExecuteTime": {
     "end_time": "2025-04-10T09:33:42.388352Z",
     "start_time": "2025-04-10T09:33:42.378167Z"
    }
   },
   "outputs": [],
   "source": [
    "squid_prices = squid_prices.merge(max_vol_squid_trades, how=\"left\", on=\"timestamp\")"
   ]
  },
  {
   "cell_type": "code",
   "execution_count": 14,
   "id": "3881dcdf07c2c16a",
   "metadata": {
    "ExecuteTime": {
     "end_time": "2025-04-10T09:33:42.393716Z",
     "start_time": "2025-04-10T09:33:42.389091Z"
    }
   },
   "outputs": [
    {
     "data": {
      "text/plain": [
       "np.float64(0.9758390715219163)"
      ]
     },
     "execution_count": 14,
     "metadata": {},
     "output_type": "execute_result"
    }
   ],
   "source": [
    "squid_prices[\"max_vol_bid_price\"].autocorr(lag=50)"
   ]
  },
  {
   "cell_type": "code",
   "execution_count": 15,
   "id": "c1b7ba11807be7b6",
   "metadata": {
    "ExecuteTime": {
     "end_time": "2025-04-10T09:33:42.738199Z",
     "start_time": "2025-04-10T09:33:42.394720Z"
    }
   },
   "outputs": [
    {
     "name": "stdout",
     "output_type": "stream",
     "text": [
      "ADF Statistic: -1.5764278576723778, p-value: 0.4954228111123399\n"
     ]
    }
   ],
   "source": [
    "from statsmodels.tsa.stattools import adfuller\n",
    "\n",
    "series = squid_prices[\"max_vol_bid_price\"]\n",
    "result = adfuller(series)\n",
    "print(f\"ADF Statistic: {result[0]}, p-value: {result[1]}\")\n"
   ]
  },
  {
   "cell_type": "markdown",
   "id": "38dc5ebccb7befc3",
   "metadata": {},
   "source": [
    "\n",
    "\"p > 0.05 -> the series is non-stationary (subtract previous values)\""
   ]
  },
  {
   "cell_type": "code",
   "execution_count": 16,
   "id": "49fbfff1fceab72a",
   "metadata": {
    "ExecuteTime": {
     "end_time": "2025-04-10T09:33:42.741865Z",
     "start_time": "2025-04-10T09:33:42.739155Z"
    }
   },
   "outputs": [
    {
     "data": {
      "text/plain": [
       "pandas.core.series.Series"
      ]
     },
     "execution_count": 16,
     "metadata": {},
     "output_type": "execute_result"
    }
   ],
   "source": [
    "type(series)"
   ]
  },
  {
   "cell_type": "code",
   "execution_count": 17,
   "id": "c0c59a85566a71f5",
   "metadata": {
    "ExecuteTime": {
     "end_time": "2025-04-10T09:33:43.384646Z",
     "start_time": "2025-04-10T09:33:42.742652Z"
    }
   },
   "outputs": [
    {
     "data": {
      "image/png": "[encoded data removed]",
      "text/plain": [
       "<Figure size 1080x840 with 6 Axes>"
      ]
     },
     "metadata": {},
     "output_type": "display_data"
    }
   ],
   "source": [
    "from statsmodels.graphics.tsaplots import plot_acf, plot_pacf\n",
    "import matplotlib.pyplot as plt\n",
    "plt.rcParams.update({'figure.figsize':(9,7), 'figure.dpi':120})\n",
    "\n",
    "# Original Series\n",
    "fig, axes = plt.subplots(3, 2, sharex=True)\n",
    "axes[0, 0].plot(series); axes[0, 0].set_title('Original Series')\n",
    "plot_acf(series, ax=axes[0, 1])\n",
    "\n",
    "# 1st Differencing\n",
    "axes[1, 0].plot(series.diff()); axes[1, 0].set_title('1st Order Differencing')\n",
    "plot_acf(series.diff().dropna(), ax=axes[1, 1])\n",
    "\n",
    "# 2nd Differencing\n",
    "axes[2, 0].plot(series.diff().diff()); axes[2, 0].set_title('2nd Order Differencing')\n",
    "plot_acf(series.diff().diff().dropna(), ax=axes[2, 1])\n",
    "\n",
    "plt.show()"
   ]
  },
  {
   "cell_type": "markdown",
   "id": "b29536e0df66aee8",
   "metadata": {},
   "source": [
    "Going with second order differencing.\n",
    "\n",
    "# d = 2 fixed.\n",
    "# p = 2 (tweak).\n",
    "# q = 2 (tweak). "
   ]
  },
  {
   "cell_type": "code",
   "execution_count": 18,
   "id": "1a563340f5f2942e",
   "metadata": {
    "ExecuteTime": {
     "end_time": "2025-04-10T09:37:13.685650Z",
     "start_time": "2025-04-10T09:37:13.458325Z"
    }
   },
   "outputs": [],
   "source": [
    "from statsmodels.tsa.arima.model import ARIMA\n",
    "\n",
    "start = 400\n",
    "end = 500\n",
    "train_series = series.iloc[:end]\n",
    "test_series = series.iloc[end:end+50]\n",
    "\n",
    "p, d, q = 2, 2, 2\n",
    "model = ARIMA(train_series, order=(p,d,q))\n",
    "model_fit = model.fit()\n",
    "# print(model_fit.summary())"
   ]
  },
  {
   "cell_type": "code",
   "execution_count": 19,
   "id": "f646a7c6c0a30900",
   "metadata": {
    "ExecuteTime": {
     "end_time": "2025-04-10T09:37:25.189177Z",
     "start_time": "2025-04-10T09:37:25.182629Z"
    }
   },
   "outputs": [
    {
     "data": {
      "text/plain": [
       "500    1990.963240\n",
       "501    1990.972459\n",
       "502    1990.935709\n",
       "503    1990.943954\n",
       "504    1990.908259\n",
       "505    1990.915462\n",
       "506    1990.880785\n",
       "507    1990.886994\n",
       "508    1990.853287\n",
       "509    1990.858549\n",
       "510    1990.825767\n",
       "511    1990.830126\n",
       "512    1990.798226\n",
       "513    1990.801724\n",
       "514    1990.770664\n",
       "Name: predicted_mean, dtype: float64"
      ]
     },
     "execution_count": 19,
     "metadata": {},
     "output_type": "execute_result"
    }
   ],
   "source": [
    "predictions = model_fit.forecast(15)\n",
    "predictions "
   ]
  },
  {
   "cell_type": "markdown",
   "id": "72fab4db867e544e",
   "metadata": {},
   "source": [
    "## Now the weird stuff"
   ]
  },
  {
   "cell_type": "code",
   "execution_count": 20,
   "id": "d545eb3b",
   "metadata": {
    "ExecuteTime": {
     "end_time": "2025-04-10T09:33:43.644307Z",
     "start_time": "2025-04-10T09:33:43.466571Z"
    }
   },
   "outputs": [
    {
     "data": {
      "image/png": "[encoded data removed]",
      "text/plain": [
       "<Figure size 1440x600 with 1 Axes>"
      ]
     },
     "metadata": {},
     "output_type": "display_data"
    }
   ],
   "source": [
    "start = 0\n",
    "end = 50_000\n",
    "\n",
    "df = squid_prices[(start <= squid_prices[\"timestamp\"]) & (squid_prices[\"timestamp\"] <= end)]\n",
    "# Plot ask and bid prices normally\n",
    "ax = df[['max_vol_ask_price', 'max_vol_bid_price']].plot(figsize=(12, 5), lw=1.5)\n",
    "\n",
    "# Plot max_vol_trade_price with a custom \"o--\" style\n",
    "df['max_vol_trade_price'].plot(ax=ax, linestyle='--', marker='o', markersize=6, color='black', lw=2, label='max_vol_trade_price')\n",
    "\n",
    "plt.xlabel('Timestamp')\n",
    "plt.ylabel('Values')\n",
    "plt.title('Max Volume Prices')\n",
    "plt.legend()\n",
    "plt.grid(True)\n",
    "plt.show()"
   ]
  },
  {
   "cell_type": "code",
   "execution_count": 21,
   "id": "35bae81f",
   "metadata": {
    "ExecuteTime": {
     "end_time": "2025-04-10T09:33:43.667438Z",
     "start_time": "2025-04-10T09:33:43.645649Z"
    }
   },
   "outputs": [
    {
     "data": {
      "text/html": [
       "<div>\n",
       "<style scoped>\n",
       "    .dataframe tbody tr th:only-of-type {\n",
       "        vertical-align: middle;\n",
       "    }\n",
       "\n",
       "    .dataframe tbody tr th {\n",
       "        vertical-align: top;\n",
       "    }\n",
       "\n",
       "    .dataframe thead th {\n",
       "        text-align: right;\n",
       "    }\n",
       "</style>\n",
       "<table border=\"1\" class=\"dataframe\">\n",
       "  <thead>\n",
       "    <tr style=\"text-align: right;\">\n",
       "      <th></th>\n",
       "      <th>day</th>\n",
       "      <th>timestamp</th>\n",
       "      <th>product</th>\n",
       "      <th>bid_price_1</th>\n",
       "      <th>bid_volume_1</th>\n",
       "      <th>bid_price_2</th>\n",
       "      <th>bid_volume_2</th>\n",
       "      <th>bid_price_3</th>\n",
       "      <th>bid_volume_3</th>\n",
       "      <th>ask_price_1</th>\n",
       "      <th>ask_volume_1</th>\n",
       "      <th>ask_price_2</th>\n",
       "      <th>ask_volume_2</th>\n",
       "      <th>ask_price_3</th>\n",
       "      <th>ask_volume_3</th>\n",
       "      <th>mid_price</th>\n",
       "      <th>profit_and_loss</th>\n",
       "      <th>max_vol_bid_price</th>\n",
       "      <th>max_vol_ask_price</th>\n",
       "      <th>max_vol_trade_price</th>\n",
       "    </tr>\n",
       "  </thead>\n",
       "  <tbody>\n",
       "    <tr>\n",
       "      <th>0</th>\n",
       "      <td>-2</td>\n",
       "      <td>0</td>\n",
       "      <td>SQUID_INK</td>\n",
       "      <td>1998</td>\n",
       "      <td>26</td>\n",
       "      <td>0.0</td>\n",
       "      <td>0.0</td>\n",
       "      <td>0.0</td>\n",
       "      <td>0.0</td>\n",
       "      <td>2002</td>\n",
       "      <td>26</td>\n",
       "      <td>0.0</td>\n",
       "      <td>0.0</td>\n",
       "      <td>0.0</td>\n",
       "      <td>0.0</td>\n",
       "      <td>2000.0</td>\n",
       "      <td>0.0</td>\n",
       "      <td>1998.0</td>\n",
       "      <td>2002.0</td>\n",
       "      <td>NaN</td>\n",
       "    </tr>\n",
       "    <tr>\n",
       "      <th>1</th>\n",
       "      <td>-2</td>\n",
       "      <td>100</td>\n",
       "      <td>SQUID_INK</td>\n",
       "      <td>1999</td>\n",
       "      <td>5</td>\n",
       "      <td>1998.0</td>\n",
       "      <td>26.0</td>\n",
       "      <td>0.0</td>\n",
       "      <td>0.0</td>\n",
       "      <td>2001</td>\n",
       "      <td>20</td>\n",
       "      <td>0.0</td>\n",
       "      <td>0.0</td>\n",
       "      <td>0.0</td>\n",
       "      <td>0.0</td>\n",
       "      <td>2000.0</td>\n",
       "      <td>0.0</td>\n",
       "      <td>1998.0</td>\n",
       "      <td>2001.0</td>\n",
       "      <td>2001.0</td>\n",
       "    </tr>\n",
       "    <tr>\n",
       "      <th>2</th>\n",
       "      <td>-2</td>\n",
       "      <td>200</td>\n",
       "      <td>SQUID_INK</td>\n",
       "      <td>1997</td>\n",
       "      <td>31</td>\n",
       "      <td>0.0</td>\n",
       "      <td>0.0</td>\n",
       "      <td>0.0</td>\n",
       "      <td>0.0</td>\n",
       "      <td>2000</td>\n",
       "      <td>1</td>\n",
       "      <td>2001.0</td>\n",
       "      <td>30.0</td>\n",
       "      <td>0.0</td>\n",
       "      <td>0.0</td>\n",
       "      <td>1998.5</td>\n",
       "      <td>0.0</td>\n",
       "      <td>1997.0</td>\n",
       "      <td>2001.0</td>\n",
       "      <td>NaN</td>\n",
       "    </tr>\n",
       "    <tr>\n",
       "      <th>3</th>\n",
       "      <td>-2</td>\n",
       "      <td>300</td>\n",
       "      <td>SQUID_INK</td>\n",
       "      <td>1997</td>\n",
       "      <td>27</td>\n",
       "      <td>0.0</td>\n",
       "      <td>0.0</td>\n",
       "      <td>0.0</td>\n",
       "      <td>0.0</td>\n",
       "      <td>2000</td>\n",
       "      <td>27</td>\n",
       "      <td>0.0</td>\n",
       "      <td>0.0</td>\n",
       "      <td>0.0</td>\n",
       "      <td>0.0</td>\n",
       "      <td>1998.5</td>\n",
       "      <td>0.0</td>\n",
       "      <td>1997.0</td>\n",
       "      <td>2000.0</td>\n",
       "      <td>NaN</td>\n",
       "    </tr>\n",
       "    <tr>\n",
       "      <th>4</th>\n",
       "      <td>-2</td>\n",
       "      <td>400</td>\n",
       "      <td>SQUID_INK</td>\n",
       "      <td>1996</td>\n",
       "      <td>20</td>\n",
       "      <td>0.0</td>\n",
       "      <td>0.0</td>\n",
       "      <td>0.0</td>\n",
       "      <td>0.0</td>\n",
       "      <td>2000</td>\n",
       "      <td>20</td>\n",
       "      <td>0.0</td>\n",
       "      <td>0.0</td>\n",
       "      <td>0.0</td>\n",
       "      <td>0.0</td>\n",
       "      <td>1998.0</td>\n",
       "      <td>0.0</td>\n",
       "      <td>1996.0</td>\n",
       "      <td>2000.0</td>\n",
       "      <td>NaN</td>\n",
       "    </tr>\n",
       "    <tr>\n",
       "      <th>...</th>\n",
       "      <td>...</td>\n",
       "      <td>...</td>\n",
       "      <td>...</td>\n",
       "      <td>...</td>\n",
       "      <td>...</td>\n",
       "      <td>...</td>\n",
       "      <td>...</td>\n",
       "      <td>...</td>\n",
       "      <td>...</td>\n",
       "      <td>...</td>\n",
       "      <td>...</td>\n",
       "      <td>...</td>\n",
       "      <td>...</td>\n",
       "      <td>...</td>\n",
       "      <td>...</td>\n",
       "      <td>...</td>\n",
       "      <td>...</td>\n",
       "      <td>...</td>\n",
       "      <td>...</td>\n",
       "      <td>...</td>\n",
       "    </tr>\n",
       "    <tr>\n",
       "      <th>9995</th>\n",
       "      <td>-2</td>\n",
       "      <td>999500</td>\n",
       "      <td>SQUID_INK</td>\n",
       "      <td>2000</td>\n",
       "      <td>26</td>\n",
       "      <td>0.0</td>\n",
       "      <td>0.0</td>\n",
       "      <td>0.0</td>\n",
       "      <td>0.0</td>\n",
       "      <td>2003</td>\n",
       "      <td>26</td>\n",
       "      <td>0.0</td>\n",
       "      <td>0.0</td>\n",
       "      <td>0.0</td>\n",
       "      <td>0.0</td>\n",
       "      <td>2001.5</td>\n",
       "      <td>0.0</td>\n",
       "      <td>2000.0</td>\n",
       "      <td>2003.0</td>\n",
       "      <td>NaN</td>\n",
       "    </tr>\n",
       "    <tr>\n",
       "      <th>9996</th>\n",
       "      <td>-2</td>\n",
       "      <td>999600</td>\n",
       "      <td>SQUID_INK</td>\n",
       "      <td>2001</td>\n",
       "      <td>30</td>\n",
       "      <td>0.0</td>\n",
       "      <td>0.0</td>\n",
       "      <td>0.0</td>\n",
       "      <td>0.0</td>\n",
       "      <td>2004</td>\n",
       "      <td>30</td>\n",
       "      <td>0.0</td>\n",
       "      <td>0.0</td>\n",
       "      <td>0.0</td>\n",
       "      <td>0.0</td>\n",
       "      <td>2002.5</td>\n",
       "      <td>0.0</td>\n",
       "      <td>2001.0</td>\n",
       "      <td>2004.0</td>\n",
       "      <td>NaN</td>\n",
       "    </tr>\n",
       "    <tr>\n",
       "      <th>9997</th>\n",
       "      <td>-2</td>\n",
       "      <td>999700</td>\n",
       "      <td>SQUID_INK</td>\n",
       "      <td>2001</td>\n",
       "      <td>22</td>\n",
       "      <td>0.0</td>\n",
       "      <td>0.0</td>\n",
       "      <td>0.0</td>\n",
       "      <td>0.0</td>\n",
       "      <td>2005</td>\n",
       "      <td>22</td>\n",
       "      <td>0.0</td>\n",
       "      <td>0.0</td>\n",
       "      <td>0.0</td>\n",
       "      <td>0.0</td>\n",
       "      <td>2003.0</td>\n",
       "      <td>0.0</td>\n",
       "      <td>2001.0</td>\n",
       "      <td>2005.0</td>\n",
       "      <td>NaN</td>\n",
       "    </tr>\n",
       "    <tr>\n",
       "      <th>9998</th>\n",
       "      <td>-2</td>\n",
       "      <td>999800</td>\n",
       "      <td>SQUID_INK</td>\n",
       "      <td>2002</td>\n",
       "      <td>26</td>\n",
       "      <td>0.0</td>\n",
       "      <td>0.0</td>\n",
       "      <td>0.0</td>\n",
       "      <td>0.0</td>\n",
       "      <td>2004</td>\n",
       "      <td>3</td>\n",
       "      <td>2005.0</td>\n",
       "      <td>26.0</td>\n",
       "      <td>0.0</td>\n",
       "      <td>0.0</td>\n",
       "      <td>2003.0</td>\n",
       "      <td>0.0</td>\n",
       "      <td>2002.0</td>\n",
       "      <td>2005.0</td>\n",
       "      <td>NaN</td>\n",
       "    </tr>\n",
       "    <tr>\n",
       "      <th>9999</th>\n",
       "      <td>-2</td>\n",
       "      <td>999900</td>\n",
       "      <td>SQUID_INK</td>\n",
       "      <td>2003</td>\n",
       "      <td>4</td>\n",
       "      <td>2002.0</td>\n",
       "      <td>32.0</td>\n",
       "      <td>0.0</td>\n",
       "      <td>0.0</td>\n",
       "      <td>2005</td>\n",
       "      <td>32</td>\n",
       "      <td>0.0</td>\n",
       "      <td>0.0</td>\n",
       "      <td>0.0</td>\n",
       "      <td>0.0</td>\n",
       "      <td>2004.0</td>\n",
       "      <td>0.0</td>\n",
       "      <td>2002.0</td>\n",
       "      <td>2005.0</td>\n",
       "      <td>NaN</td>\n",
       "    </tr>\n",
       "  </tbody>\n",
       "</table>\n",
       "<p>10000 rows × 20 columns</p>\n",
       "</div>"
      ],
      "text/plain": [
       "      day  timestamp    product  bid_price_1  bid_volume_1  bid_price_2  \\\n",
       "0      -2          0  SQUID_INK         1998            26          0.0   \n",
       "1      -2        100  SQUID_INK         1999             5       1998.0   \n",
       "2      -2        200  SQUID_INK         1997            31          0.0   \n",
       "3      -2        300  SQUID_INK         1997            27          0.0   \n",
       "4      -2        400  SQUID_INK         1996            20          0.0   \n",
       "...   ...        ...        ...          ...           ...          ...   \n",
       "9995   -2     999500  SQUID_INK         2000            26          0.0   \n",
       "9996   -2     999600  SQUID_INK         2001            30          0.0   \n",
       "9997   -2     999700  SQUID_INK         2001            22          0.0   \n",
       "9998   -2     999800  SQUID_INK         2002            26          0.0   \n",
       "9999   -2     999900  SQUID_INK         2003             4       2002.0   \n",
       "\n",
       "      bid_volume_2  bid_price_3  bid_volume_3  ask_price_1  ask_volume_1  \\\n",
       "0              0.0          0.0           0.0         2002            26   \n",
       "1             26.0          0.0           0.0         2001            20   \n",
       "2              0.0          0.0           0.0         2000             1   \n",
       "3              0.0          0.0           0.0         2000            27   \n",
       "4              0.0          0.0           0.0         2000            20   \n",
       "...            ...          ...           ...          ...           ...   \n",
       "9995           0.0          0.0           0.0         2003            26   \n",
       "9996           0.0          0.0           0.0         2004            30   \n",
       "9997           0.0          0.0           0.0         2005            22   \n",
       "9998           0.0          0.0           0.0         2004             3   \n",
       "9999          32.0          0.0           0.0         2005            32   \n",
       "\n",
       "      ask_price_2  ask_volume_2  ask_price_3  ask_volume_3  mid_price  \\\n",
       "0             0.0           0.0          0.0           0.0     2000.0   \n",
       "1             0.0           0.0          0.0           0.0     2000.0   \n",
       "2          2001.0          30.0          0.0           0.0     1998.5   \n",
       "3             0.0           0.0          0.0           0.0     1998.5   \n",
       "4             0.0           0.0          0.0           0.0     1998.0   \n",
       "...           ...           ...          ...           ...        ...   \n",
       "9995          0.0           0.0          0.0           0.0     2001.5   \n",
       "9996          0.0           0.0          0.0           0.0     2002.5   \n",
       "9997          0.0           0.0          0.0           0.0     2003.0   \n",
       "9998       2005.0          26.0          0.0           0.0     2003.0   \n",
       "9999          0.0           0.0          0.0           0.0     2004.0   \n",
       "\n",
       "      profit_and_loss  max_vol_bid_price  max_vol_ask_price  \\\n",
       "0                 0.0             1998.0             2002.0   \n",
       "1                 0.0             1998.0             2001.0   \n",
       "2                 0.0             1997.0             2001.0   \n",
       "3                 0.0             1997.0             2000.0   \n",
       "4                 0.0             1996.0             2000.0   \n",
       "...               ...                ...                ...   \n",
       "9995              0.0             2000.0             2003.0   \n",
       "9996              0.0             2001.0             2004.0   \n",
       "9997              0.0             2001.0             2005.0   \n",
       "9998              0.0             2002.0             2005.0   \n",
       "9999              0.0             2002.0             2005.0   \n",
       "\n",
       "      max_vol_trade_price  \n",
       "0                     NaN  \n",
       "1                  2001.0  \n",
       "2                     NaN  \n",
       "3                     NaN  \n",
       "4                     NaN  \n",
       "...                   ...  \n",
       "9995                  NaN  \n",
       "9996                  NaN  \n",
       "9997                  NaN  \n",
       "9998                  NaN  \n",
       "9999                  NaN  \n",
       "\n",
       "[10000 rows x 20 columns]"
      ]
     },
     "execution_count": 21,
     "metadata": {},
     "output_type": "execute_result"
    }
   ],
   "source": [
    "squid_prices"
   ]
  },
  {
   "cell_type": "code",
   "execution_count": 22,
   "id": "59d81e83",
   "metadata": {
    "ExecuteTime": {
     "end_time": "2025-04-10T09:33:43.707182Z",
     "start_time": "2025-04-10T09:33:43.671875Z"
    }
   },
   "outputs": [
    {
     "name": "stdout",
     "output_type": "stream",
     "text": [
      "ADF Statistic: -1.3957550880353728\n",
      "p-value: 0.5843094822216843\n",
      "Critical Values:\n",
      "   1%: -3.4360840741163168\n",
      "   5%: -2.864071964072552\n",
      "   10%: -2.568118081861596\n"
     ]
    }
   ],
   "source": [
    "from statsmodels.tsa.stattools import adfuller\n",
    "\n",
    "# Extract price series\n",
    "price_series = squid_prices['max_vol_trade_price'].dropna()\n",
    "\n",
    "# Perform ADF test\n",
    "adf_result = adfuller(price_series)\n",
    "\n",
    "# Display results\n",
    "print(f'ADF Statistic: {adf_result[0]}')\n",
    "print(f'p-value: {adf_result[1]}')\n",
    "print('Critical Values:')\n",
    "for key, value in adf_result[4].items():\n",
    "    print(f'   {key}: {value}')\n"
   ]
  },
  {
   "cell_type": "code",
   "execution_count": 23,
   "id": "1470bde4",
   "metadata": {
    "ExecuteTime": {
     "end_time": "2025-04-10T09:33:43.711751Z",
     "start_time": "2025-04-10T09:33:43.708576Z"
    }
   },
   "outputs": [],
   "source": [
    "from numpy import cumsum, log, polyfit, sqrt, std, subtract\n",
    "from numpy.random import randn"
   ]
  },
  {
   "cell_type": "code",
   "execution_count": 24,
   "id": "68435c97",
   "metadata": {
    "ExecuteTime": {
     "end_time": "2025-04-10T09:33:43.717146Z",
     "start_time": "2025-04-10T09:33:43.713234Z"
    }
   },
   "outputs": [],
   "source": [
    "def hurst(ts):\n",
    "    \"\"\"\n",
    "    Returns the Hurst Exponent of the time series vector ts\n",
    "\n",
    "    Parameters\n",
    "    ----------\n",
    "    ts : `numpy.array`\n",
    "        Time series upon which the Hurst Exponent will be calculated\n",
    "\n",
    "    Returns\n",
    "    -------\n",
    "    'float'\n",
    "        The Hurst Exponent from the poly fit output\n",
    "    \"\"\"\n",
    "    # Create the range of lag values\n",
    "    lags = range(2, 100)\n",
    "\n",
    "    # Calculate the array of the variances of the lagged differences\n",
    "    tau = [sqrt(std(subtract(ts[lag:], ts[:-lag]))) for lag in lags]\n",
    "\n",
    "    # Use a linear fit to estimate the Hurst Exponent\n",
    "    poly = polyfit(log(lags), log(tau), 1)\n",
    "\n",
    "    # Return the Hurst exponent from the polyfit output\n",
    "    return poly[0]*2.0"
   ]
  },
  {
   "cell_type": "code",
   "execution_count": 25,
   "id": "2308d415",
   "metadata": {
    "ExecuteTime": {
     "end_time": "2025-04-10T09:33:43.776958Z",
     "start_time": "2025-04-10T09:33:43.718574Z"
    }
   },
   "outputs": [
    {
     "name": "stderr",
     "output_type": "stream",
     "text": [
      "/var/folders/41/v7x6qrn91r5ccc86q_ps3c7c0000gn/T/ipykernel_42069/1080771817.py:22: RuntimeWarning: divide by zero encountered in log\n",
      "  poly = polyfit(log(lags), log(tau), 1)\n"
     ]
    },
    {
     "data": {
      "text/plain": [
       "np.float64(nan)"
      ]
     },
     "execution_count": 25,
     "metadata": {},
     "output_type": "execute_result"
    }
   ],
   "source": [
    "hurst(price_series)"
   ]
  },
  {
   "cell_type": "code",
   "execution_count": null,
   "id": "eecea682",
   "metadata": {
    "ExecuteTime": {
     "end_time": "2025-04-10T09:33:43.781123Z",
     "start_time": "2025-04-10T09:33:43.779005Z"
    }
   },
   "outputs": [],
   "source": []
  }
 ],
 "metadata": {
  "kernelspec": {
   "display_name": ".venv",
   "language": "python",
   "name": "python3"
  },
  "language_info": {
   "codemirror_mode": {
    "name": "ipython",
    "version": 3
   },
   "file_extension": ".py",
   "mimetype": "text/x-python",
   "name": "python",
   "nbconvert_exporter": "python",
   "pygments_lexer": "ipython3",
   "version": "3.13.1"
  }
 },
 "nbformat": 4,
 "nbformat_minor": 5
}
