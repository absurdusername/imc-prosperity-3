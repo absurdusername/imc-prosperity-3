{
 "cells": [
  {
   "cell_type": "code",
   "id": "initial_id",
   "metadata": {
    "collapsed": true,
    "ExecuteTime": {
     "end_time": "2025-04-08T18:33:52.980349Z",
     "start_time": "2025-04-08T18:33:52.342721Z"
    }
   },
   "source": "import pandas as pd",
   "outputs": [],
   "execution_count": 1
  },
  {
   "metadata": {
    "ExecuteTime": {
     "end_time": "2025-04-08T18:33:55.447673Z",
     "start_time": "2025-04-08T18:33:55.444373Z"
    }
   },
   "cell_type": "code",
   "source": [
    "data_folder = \"data/\"\n",
    "\n",
    "price_files = [\n",
    "    \"prices_round_1_day_-2.csv\",\n",
    "    \"prices_round_1_day_-1.csv\",\n",
    "    \"prices_round_1_day_0.csv\",\n",
    "]\n",
    "\n",
    "trade_files = [\n",
    "    \"trades_round_1_day_-2.csv\",\n",
    "    \"trades_round_1_day_-1.csv\",\n",
    "    \"trades_round_1_day_0.csv\",\n",
    "]\n"
   ],
   "id": "88ca6b4df2b3c712",
   "outputs": [],
   "execution_count": 2
  },
  {
   "metadata": {
    "ExecuteTime": {
     "end_time": "2025-04-08T18:34:05.164961Z",
     "start_time": "2025-04-08T18:34:05.037635Z"
    }
   },
   "cell_type": "code",
   "source": [
    "prices = pd.concat([\n",
    "    pd.read_csv(data_folder + file, sep=';') \n",
    "    for file in price_files\n",
    "])\n",
    "\n",
    "trades = pd.concat([\n",
    "    pd.read_csv(data_folder + file, sep=';')\n",
    "    for file in trade_files\n",
    "])"
   ],
   "id": "4f5b2e5d45ad9889",
   "outputs": [],
   "execution_count": 3
  },
  {
   "metadata": {
    "ExecuteTime": {
     "end_time": "2025-04-08T18:34:06.331145Z",
     "start_time": "2025-04-08T18:34:06.319173Z"
    }
   },
   "cell_type": "code",
   "source": [
    "resin_prices = prices[prices[\"product\"] == \"RAINFOREST_RESIN\"]\n",
    "resin_trades = trades[trades[\"symbol\"] == \"RAINFOREST_RESIN\"]"
   ],
   "id": "6fb4784202eb04d8",
   "outputs": [],
   "execution_count": 4
  },
  {
   "metadata": {
    "ExecuteTime": {
     "end_time": "2025-04-08T18:34:12.660270Z",
     "start_time": "2025-04-08T18:34:12.146947Z"
    }
   },
   "cell_type": "code",
   "source": "resin_trades['price'].hist()",
   "id": "31f1dc05df51c62a",
   "outputs": [
    {
     "data": {
      "text/plain": [
       "<Axes: >"
      ]
     },
     "execution_count": 5,
     "metadata": {},
     "output_type": "execute_result"
    },
    {
     "data": {
      "text/plain": [
       "<Figure size 640x480 with 1 Axes>"
      ],
      "image/png": "[encoded data removed]"
     },
     "metadata": {},
     "output_type": "display_data"
    }
   ],
   "execution_count": 5
  }
 ],
 "metadata": {
  "kernelspec": {
   "display_name": "Python 3",
   "language": "python",
   "name": "python3"
  },
  "language_info": {
   "codemirror_mode": {
    "name": "ipython",
    "version": 2
   },
   "file_extension": ".py",
   "mimetype": "text/x-python",
   "name": "python",
   "nbconvert_exporter": "python",
   "pygments_lexer": "ipython2",
   "version": "2.7.6"
  }
 },
 "nbformat": 4,
 "nbformat_minor": 5
}
