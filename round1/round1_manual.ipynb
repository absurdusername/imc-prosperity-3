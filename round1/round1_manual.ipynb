{
 "cells": [
  {
   "cell_type": "code",
   "execution_count": 5,
   "id": "c417e7b7",
   "metadata": {},
   "outputs": [],
   "source": [
    "import numpy as np\n",
    "import itertools"
   ]
  },
  {
   "cell_type": "code",
   "execution_count": 49,
   "id": "619a6582",
   "metadata": {},
   "outputs": [],
   "source": [
    "rates = np.array([\n",
    "    [1, 1.45, 0.52, 0.72],\n",
    "    [0.7, 1, 0.31, 0.48],\n",
    "    [1.95, 3.1, 1, 1.49],\n",
    "    [1.34, 1.98, 0.64, 1]\n",
    "])\n",
    "\n",
    "products = {\n",
    "    0: \"Snowballs\", \n",
    "    1: \"Pizza's\",\n",
    "    2: \"Silicon Nuggets\",\n",
    "    3: \"SeaShells\"\n",
    "}"
   ]
  },
  {
   "cell_type": "code",
   "execution_count": 52,
   "id": "cf4462dd",
   "metadata": {},
   "outputs": [],
   "source": [
    "def amount(seq):\n",
    "    result = rates[3, seq[0]] * rates[seq[-1], 3]\n",
    "    \n",
    "    for x, y in itertools.pairwise(seq):\n",
    "        result *= rates[x, y]\n",
    "    \n",
    "    return result"
   ]
  },
  {
   "cell_type": "code",
   "execution_count": 56,
   "id": "2528ea29",
   "metadata": {},
   "outputs": [
    {
     "name": "stdout",
     "output_type": "stream",
     "text": [
      "Best sequence: SeaShells -> Snowballs -> Silicon Nuggets -> Pizza's -> Snowballs -> SeaShells\n",
      "Max value:  1.0886803200000001\n"
     ]
    }
   ],
   "source": [
    "argmax = None\n",
    "max_val = 0\n",
    "\n",
    "for seq in itertools.product(*[range(4) for _ in range(4)]):\n",
    "    p = amount(seq)\n",
    "\n",
    "    if p > max_val:\n",
    "        max_val = p\n",
    "        argmax = seq\n",
    "\n",
    "print(\"Best sequence:\", \" -> \".join([products[3]] + [products[i] for i in argmax] + [products[3]]))\n",
    "print(\"Max value: \", max_val)"
   ]
  }
 ],
 "metadata": {
  "kernelspec": {
   "display_name": ".venv",
   "language": "python",
   "name": "python3"
  },
  "language_info": {
   "codemirror_mode": {
    "name": "ipython",
    "version": 3
   },
   "file_extension": ".py",
   "mimetype": "text/x-python",
   "name": "python",
   "nbconvert_exporter": "python",
   "pygments_lexer": "ipython3",
   "version": "3.13.1"
  }
 },
 "nbformat": 4,
 "nbformat_minor": 5
}
